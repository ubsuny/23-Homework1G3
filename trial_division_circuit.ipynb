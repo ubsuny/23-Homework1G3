{
 "cells": [
  {
   "cell_type": "code",
   "execution_count": 7,
   "id": "3606a65f-1605-40d5-9b76-2955ed829662",
   "metadata": {
    "tags": []
   },
   "outputs": [],
   "source": [
    "import qiskit\n",
    "# Makes qiskit library available to quantam system"
   ]
  },
  {
   "cell_type": "code",
   "execution_count": 8,
   "id": "732ce368-5038-41ed-87ea-d101b1d1ad66",
   "metadata": {
    "tags": []
   },
   "outputs": [],
   "source": [
    "qc = qiskit.QuantumCircuit(3)\n",
    "  #Create quantum circuit with 3 qubit. Qubit are labelled as o,1,2 \n",
    "# the circuit is initially in the state |000>, which means all qubits are in state |0>.\n"
   ]
  },
  {
   "cell_type": "code",
   "execution_count": 9,
   "id": "ef643233-b934-402f-b39e-80cec6ca33f1",
   "metadata": {
    "tags": []
   },
   "outputs": [
    {
     "data": {
      "text/plain": [
       "<qiskit.circuit.instructionset.InstructionSet at 0x7fbef97c54b0>"
      ]
     },
     "execution_count": 9,
     "metadata": {},
     "output_type": "execute_result"
    }
   ],
   "source": [
    "qc.h(0)\n",
    "#Apply hardamard gate to qubit 0 of quantum circuit."
   ]
  },
  {
   "cell_type": "code",
   "execution_count": 10,
   "id": "87b3dea3-961f-4c89-bc3a-bfdee1aa57f5",
   "metadata": {
    "tags": []
   },
   "outputs": [
    {
     "data": {
      "text/plain": [
       "<qiskit.circuit.instructionset.InstructionSet at 0x7fbef97c4e80>"
      ]
     },
     "execution_count": 10,
     "metadata": {},
     "output_type": "execute_result"
    }
   ],
   "source": [
    "qc.h(1)\n",
    "#Apply hardamard gate to qubit 1 of quantum circuit."
   ]
  },
  {
   "cell_type": "code",
   "execution_count": 11,
   "id": "486afc87-c6b0-4500-8667-6a422715f3d0",
   "metadata": {
    "tags": []
   },
   "outputs": [
    {
     "data": {
      "text/plain": [
       "<qiskit.circuit.instructionset.InstructionSet at 0x7fbef97c5270>"
      ]
     },
     "execution_count": 11,
     "metadata": {},
     "output_type": "execute_result"
    }
   ],
   "source": [
    "qc.h(2)\n",
    "#Apply hardamard gate to qubit 2 of quantum circuit."
   ]
  },
  {
   "cell_type": "code",
   "execution_count": 12,
   "id": "b4f6a9dc-f8b0-4067-b5b7-ff377a59dbbf",
   "metadata": {
    "tags": []
   },
   "outputs": [
    {
     "data": {
      "image/png": "[encoded data removed]",
      "text/plain": [
       "<Figure size 203.885x284.278 with 1 Axes>"
      ]
     },
     "execution_count": 12,
     "metadata": {},
     "output_type": "execute_result"
    }
   ],
   "source": [
    "qc.draw('mpl')\n",
    "# visualize the circuit."
   ]
  },
  {
   "cell_type": "code",
   "execution_count": 13,
   "id": "352d839b-f6cf-4384-b2e9-348266e5b021",
   "metadata": {
    "tags": []
   },
   "outputs": [
    {
     "data": {
      "text/plain": [
       "<qiskit.circuit.instructionset.InstructionSet at 0x7fbef8586020>"
      ]
     },
     "execution_count": 13,
     "metadata": {},
     "output_type": "execute_result"
    }
   ],
   "source": [
    "qc.cx(1,2)\n",
    "#Apply the controlledX gate "
   ]
  },
  {
   "cell_type": "code",
   "execution_count": 14,
   "id": "d767c2d8-95c6-4093-bb74-56bf21163c3a",
   "metadata": {
    "tags": []
   },
   "outputs": [
    {
     "data": {
      "text/plain": [
       "<qiskit.circuit.instructionset.InstructionSet at 0x7fbef97c4b80>"
      ]
     },
     "execution_count": 14,
     "metadata": {},
     "output_type": "execute_result"
    }
   ],
   "source": [
    "qc.cx(0,2)"
   ]
  },
  {
   "cell_type": "code",
   "execution_count": 15,
   "id": "53722a41-1a7f-4ab8-b7e3-8cb3e8a314ae",
   "metadata": {
    "tags": []
   },
   "outputs": [
    {
     "data": {
      "image/png": "[encoded data removed]",
      "text/plain": [
       "<Figure size 371.107x284.278 with 1 Axes>"
      ]
     },
     "execution_count": 15,
     "metadata": {},
     "output_type": "execute_result"
    }
   ],
   "source": [
    "qc.draw('mpl')"
   ]
  },
  {
   "cell_type": "code",
   "execution_count": 16,
   "id": "734ac36c-fc93-4a41-bac6-49de87cd94b9",
   "metadata": {
    "tags": []
   },
   "outputs": [
    {
     "name": "stdout",
     "output_type": "stream",
     "text": [
      "Traceback \u001b[1;36m(most recent call last)\u001b[0m:\n",
      "\u001b[0m  Cell \u001b[0;32mIn[16], line 1\u001b[0m\n",
      "    qc.measure([2,1,0],[2,1,0])\u001b[0m\n",
      "\u001b[0m  File \u001b[0;32m/opt/conda/lib/python3.10/site-packages/qiskit/circuit/quantumcircuit.py:2359\u001b[0m in \u001b[0;35mmeasure\u001b[0m\n",
      "    return self.append(Measure(), [qubit], [cbit])\u001b[0m\n",
      "\u001b[0m  File \u001b[0;32m/opt/conda/lib/python3.10/site-packages/qiskit/circuit/quantumcircuit.py:1279\u001b[0m in \u001b[0;35mappend\u001b[0m\n",
      "    expanded_cargs = [self.cbit_argument_conversion(carg) for carg in cargs or []]\u001b[0m\n",
      "\u001b[0m  File \u001b[0;32m/opt/conda/lib/python3.10/site-packages/qiskit/circuit/quantumcircuit.py:1279\u001b[0m in \u001b[0;35m<listcomp>\u001b[0m\n",
      "    expanded_cargs = [self.cbit_argument_conversion(carg) for carg in cargs or []]\u001b[0m\n",
      "\u001b[0m  File \u001b[0;32m/opt/conda/lib/python3.10/site-packages/qiskit/circuit/quantumcircuit.py:1164\u001b[0m in \u001b[0;35mcbit_argument_conversion\u001b[0m\n",
      "    return _bit_argument_conversion(\u001b[0m\n",
      "\u001b[0m  File \u001b[0;32m/opt/conda/lib/python3.10/site-packages/qiskit/circuit/quantumcircuit.py:5233\u001b[0m in \u001b[0;35m_bit_argument_conversion\u001b[0m\n",
      "    return [\u001b[0m\n",
      "\u001b[0m  File \u001b[0;32m/opt/conda/lib/python3.10/site-packages/qiskit/circuit/quantumcircuit.py:5234\u001b[0m in \u001b[0;35m<listcomp>\u001b[0m\n",
      "    _bit_argument_conversion_scalar(index, bit_sequence, bit_set, type_)\u001b[0m\n",
      "\u001b[1;36m  File \u001b[1;32m/opt/conda/lib/python3.10/site-packages/qiskit/circuit/quantumcircuit.py:5255\u001b[1;36m in \u001b[1;35m_bit_argument_conversion_scalar\u001b[1;36m\n",
      "\u001b[1;33m    raise CircuitError(\u001b[1;36m\n",
      "\u001b[1;31mCircuitError\u001b[0m\u001b[1;31m:\u001b[0m 'Index 2 out of range for size 0.'\n",
      "\n",
      "Use %tb to get the full traceback.\n"
     ]
    },
    {
     "data": {
      "text/html": [
       "\n",
       "<style>\n",
       ".button {\n",
       "  border: none;\n",
       "  color: white;\n",
       "  padding: 4px 8px;\n",
       "  text-align: center;\n",
       "  text-decoration: none;\n",
       "  display: inline-block;\n",
       "  font-size: 12px;\n",
       "  margin: 4px 2px;\n",
       "  transition-duration: 0.2s;\n",
       "  cursor: pointer;\n",
       "}\n",
       ".iqx-button {\n",
       "  background-color: #0f62fe; \n",
       "  color: white; \n",
       "}\n",
       ".iqx-button:hover {\n",
       "  background-color: #0043ce;\n",
       "  color: white;\n",
       "}\n",
       "</style>\n",
       "<a href=\"https://stackoverflow.com/search?q=CircuitError: Index 2 out of range for size 0.\" target='_blank'><button class='button iqx-button'>Search for solution online</button></a>\n"
      ],
      "text/plain": [
       "<IPython.core.display.HTML object>"
      ]
     },
     "metadata": {},
     "output_type": "display_data"
    }
   ],
   "source": [
    "qc.measure([2,1,0],[2,1,0])"
   ]
  },
  {
   "cell_type": "code",
   "execution_count": 17,
   "id": "10df9923-6eed-4a2b-8e58-e6f76f004249",
   "metadata": {
    "tags": []
   },
   "outputs": [
    {
     "data": {
      "image/png": "[encoded data removed]",
      "text/plain": [
       "<Figure size 371.107x284.278 with 1 Axes>"
      ]
     },
     "execution_count": 17,
     "metadata": {},
     "output_type": "execute_result"
    }
   ],
   "source": [
    "qc.draw('mpl')"
   ]
  },
  {
   "cell_type": "code",
   "execution_count": null,
   "id": "2fa13f0c-2511-422c-a92b-362e98f6cb1c",
   "metadata": {},
   "outputs": [],
   "source": []
  }
 ],
 "metadata": {
  "kernelspec": {
   "display_name": "Python 3 (ipykernel)",
   "language": "python",
   "name": "python3"
  },
  "language_info": {
   "codemirror_mode": {
    "name": "ipython",
    "version": 3
   },
   "file_extension": ".py",
   "mimetype": "text/x-python",
   "name": "python",
   "nbconvert_exporter": "python",
   "pygments_lexer": "ipython3",
   "version": "3.10.8"
  },
  "widgets": {
   "application/vnd.jupyter.widget-state+json": {
    "state": {},
    "version_major": 2,
    "version_minor": 0
   }
  }
 },
 "nbformat": 4,
 "nbformat_minor": 5
}
